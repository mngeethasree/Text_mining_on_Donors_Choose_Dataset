{
 "cells": [
  {
   "cell_type": "markdown",
   "metadata": {
    "colab_type": "text",
    "id": "inzYCIaib3c3"
   },
   "source": [
    "<h1>1. Naive Bayes </h1>"
   ]
  },
  {
   "cell_type": "markdown",
   "metadata": {
    "colab_type": "text",
    "id": "FYqCIxzFb3c5"
   },
   "source": [
    "## 1.1 Loading Data"
   ]
  },
  {
   "cell_type": "code",
   "execution_count": 134,
   "metadata": {},
   "outputs": [],
   "source": [
    "#import libraries\n",
    "import pandas\n",
    "import numpy as np\n",
    "from sklearn.model_selection import train_test_split\n",
    "from sklearn.feature_extraction.text import CountVectorizer\n",
    "from sklearn.feature_extraction.text import TfidfVectorizer\n",
    "from sklearn.preprocessing import Normalizer\n",
    "from scipy.sparse import hstack\n",
    "import matplotlib.pyplot as plt\n",
    "from sklearn.naive_bayes import MultinomialNB\n",
    "from sklearn.metrics import roc_auc_score\n",
    "from tqdm import tqdm\n",
    "from sklearn.metrics import accuracy_score\n",
    "from sklearn.metrics import roc_curve, auc\n",
    "import seaborn as sns\n",
    "from sklearn.metrics import confusion_matrix"
   ]
  },
  {
   "cell_type": "code",
   "execution_count": 135,
   "metadata": {
    "colab": {},
    "colab_type": "code",
    "id": "dA1jknyqb3c_"
   },
   "outputs": [
    {
     "name": "stdout",
     "output_type": "stream",
     "text": [
      "1    63421\n",
      "0    11579\n",
      "Name: project_is_approved, dtype: int64\n"
     ]
    }
   ],
   "source": [
    "data = pandas.read_csv('preprocessed_data.csv',nrows=75000)\n",
    "print(data['project_is_approved'].value_counts())"
   ]
  },
  {
   "cell_type": "markdown",
   "metadata": {
    "colab_type": "text",
    "id": "WtVV13Fyb3dH"
   },
   "source": [
    "<h2>1.2 Splitting data into Train and cross validation(or test): Stratified Sampling</h2>"
   ]
  },
  {
   "cell_type": "code",
   "execution_count": 136,
   "metadata": {},
   "outputs": [],
   "source": [
    "y = data['project_is_approved'].values\n",
    "X = data.drop(['project_is_approved'], axis=1)"
   ]
  },
  {
   "cell_type": "code",
   "execution_count": 137,
   "metadata": {},
   "outputs": [],
   "source": [
    "#test-train split--for loops\n",
    "X_train,X_test,y_train,y_test=train_test_split(X,y,test_size=0.33,stratify=y)\n",
    "X_train,X_cv,y_train,y_cv=train_test_split(X_train,y_train,test_size=0.33,stratify=y_train)"
   ]
  },
  {
   "cell_type": "markdown",
   "metadata": {
    "colab_type": "text",
    "id": "EnZwVNULb3dO"
   },
   "source": [
    "<h2>1.3 Make Data Model Ready: encoding essay</h2>"
   ]
  },
  {
   "cell_type": "code",
   "execution_count": 139,
   "metadata": {
    "colab": {},
    "colab_type": "code",
    "id": "-SczZKiab3dR"
   },
   "outputs": [
    {
     "name": "stdout",
     "output_type": "stream",
     "text": [
      "Before Vectorization\n",
      "(33667, 8) (33667,)\n",
      "(16583, 8) (16583,)\n",
      "(24750, 8) (24750,)\n",
      "After Vectorization\n",
      "(33667, 5000) (33667,)\n",
      "(16583, 5000) (16583,)\n",
      "(24750, 5000) (24750,)\n",
      "(33667, 5000) (33667,)\n",
      "(16583, 5000) (16583,)\n",
      "(24750, 5000) (24750,)\n"
     ]
    }
   ],
   "source": [
    "# here\n",
    "feature_names_list=[]\n",
    "#Before vectorization- train,cv,test set sizes\n",
    "print(\"Before Vectorization\")\n",
    "print(X_train.shape,y_train.shape)\n",
    "print(X_cv.shape,y_cv.shape)\n",
    "print(X_test.shape,y_test.shape)\n",
    "\n",
    "bow_vectorizer = CountVectorizer(min_df=10,ngram_range=(1,4), max_features=5000)\n",
    "tfidf_vectorizer = TfidfVectorizer(min_df=10,ngram_range=(1,4), max_features=5000)\n",
    "\n",
    "#BOW Vectorization\n",
    "X_train_essay_bow = bow_vectorizer.fit_transform(X_train['essay'].values)\n",
    "X_cv_essay_bow = bow_vectorizer.transform(X_cv['essay'].values)\n",
    "X_test_essay_bow = bow_vectorizer.transform(X_test['essay'].values)\n",
    "\n",
    "#TFIDF Vectorization\n",
    "X_train_essay_tfidf = tfidf_vectorizer.fit_transform(X_train['essay'].values)\n",
    "X_cv_essay_tfidf = tfidf_vectorizer.transform(X_cv['essay'].values)\n",
    "X_test_essay_tfidf = tfidf_vectorizer.transform(X_test['essay'].values)\n",
    "\n",
    "feature_names_list.extend(bow_vectorizer.get_feature_names())\n",
    "#After vectorization- train,cv,test set sizes\n",
    "print(\"After Vectorization\")\n",
    "print(X_train_essay_bow.shape,y_train.shape)\n",
    "print(X_cv_essay_bow.shape,y_cv.shape)\n",
    "print(X_test_essay_bow.shape,y_test.shape)\n",
    "\n",
    "print(X_train_essay_tfidf.shape,y_train.shape)\n",
    "print(X_cv_essay_tfidf.shape,y_cv.shape)\n",
    "print(X_test_essay_tfidf.shape,y_test.shape)"
   ]
  },
  {
   "cell_type": "markdown",
   "metadata": {
    "colab_type": "text",
    "id": "bGy86kgHb3dX"
   },
   "source": [
    "<h2>1.4 Make Data Model Ready: encoding numerical, categorical features</h2>"
   ]
  },
  {
   "cell_type": "markdown",
   "metadata": {},
   "source": [
    "<h3>1.4.1 encoding categorical features: teacher_prefix,project_grade_category,school_state,clean_categories,clean_subcategories</h3>"
   ]
  },
  {
   "cell_type": "code",
   "execution_count": 140,
   "metadata": {
    "colab": {},
    "colab_type": "code",
    "id": "EfXkofX1b3da"
   },
   "outputs": [],
   "source": [
    "\n",
    "#+++++++++++++++ teacher_prefix ++++++++++++++++++\n",
    "\n",
    "bow_vectorizer = CountVectorizer()\n",
    "tfidf_vectorizer = TfidfVectorizer()\n",
    "\n",
    "#BOW\n",
    "X_train_teacher_prefix_bow = bow_vectorizer.fit_transform(X_train['teacher_prefix'].values)\n",
    "X_cv_teacher_prefix_bow = bow_vectorizer.transform(X_cv['teacher_prefix'].values)\n",
    "X_test_teacher_prefix_bow = bow_vectorizer.transform(X_test['teacher_prefix'].values)\n",
    "\n",
    "feature_names_list.extend(bow_vectorizer.get_feature_names())\n",
    "\n",
    "#TFIDF\n",
    "X_train_teacher_prefix_tfidf = tfidf_vectorizer.fit_transform(X_train['teacher_prefix'].values)\n",
    "X_cv_teacher_prefix_tfidf = tfidf_vectorizer.transform(X_cv['teacher_prefix'].values)\n",
    "X_test_teacher_prefix_tfidf = tfidf_vectorizer.transform(X_test['teacher_prefix'].values)\n",
    "\n",
    "#+++++++++++++++ project_grade_category ++++++++++++++++++\n",
    "\n",
    "bow_vectorizer = CountVectorizer()\n",
    "tfidf_vectorizer = TfidfVectorizer()\n",
    "\n",
    "#BOW\n",
    "X_train_grade_category_bow = bow_vectorizer.fit_transform(X_train['project_grade_category'].values)\n",
    "X_cv_grade_category_bow = bow_vectorizer.transform(X_cv['project_grade_category'].values)\n",
    "X_test_grade_category_bow = bow_vectorizer.transform(X_test['project_grade_category'].values)\n",
    "\n",
    "feature_names_list.extend(bow_vectorizer.get_feature_names())\n",
    "\n",
    "#TFIDF\n",
    "X_train_grade_category_tfidf = tfidf_vectorizer.fit_transform(X_train['project_grade_category'].values)\n",
    "X_cv_grade_category_tfidf = tfidf_vectorizer.transform(X_cv['project_grade_category'].values)\n",
    "X_test_grade_category_tfidf = tfidf_vectorizer.transform(X_test['project_grade_category'].values)\n",
    "\n",
    "#+++++++++++++++ school_state ++++++++++++++++++\n",
    "\n",
    "bow_vectorizer = CountVectorizer()\n",
    "tfidf_vectorizer = TfidfVectorizer()\n",
    "\n",
    "#BOW\n",
    "X_train_school_state_bow = bow_vectorizer.fit_transform(X_train['school_state'].values)\n",
    "X_cv_school_state_bow = bow_vectorizer.transform(X_cv['school_state'].values)\n",
    "X_test_school_state_bow = bow_vectorizer.transform(X_test['school_state'].values)\n",
    "\n",
    "feature_names_list.extend(bow_vectorizer.get_feature_names())\n",
    "\n",
    "#TFIDF\n",
    "X_train_school_state_tfidf = tfidf_vectorizer.fit_transform(X_train['school_state'].values)\n",
    "X_cv_school_state_tfidf = tfidf_vectorizer.transform(X_cv['school_state'].values)\n",
    "X_test_school_state_tfidf = tfidf_vectorizer.transform(X_test['school_state'].values)\n",
    "\n",
    "#+++++++++++++++ clean_categories ++++++++++++++++++\n",
    "\n",
    "bow_vectorizer = CountVectorizer()\n",
    "tfidf_vectorizer = TfidfVectorizer()\n",
    "\n",
    "#BOW\n",
    "X_train_clean_categ_bow = bow_vectorizer.fit_transform(X_train['clean_categories'].values)\n",
    "X_cv_clean_categ_bow = bow_vectorizer.transform(X_cv['clean_categories'].values)\n",
    "X_test_clean_categ_bow = bow_vectorizer.transform(X_test['clean_categories'].values)\n",
    "\n",
    "feature_names_list.extend(bow_vectorizer.get_feature_names())\n",
    "\n",
    "#TFIDF\n",
    "X_train_clean_categ_tfidf = tfidf_vectorizer.fit_transform(X_train['clean_categories'].values)\n",
    "X_cv_clean_categ_tfidf = tfidf_vectorizer.transform(X_cv['clean_categories'].values)\n",
    "X_test_clean_categ_tfidf = tfidf_vectorizer.transform(X_test['clean_categories'].values)\n",
    "\n",
    "#+++++++++++++++ clean_subcategories ++++++++++++++++++\n",
    "\n",
    "bow_vectorizer = CountVectorizer()\n",
    "tfidf_vectorizer = TfidfVectorizer()\n",
    "\n",
    "#BOW\n",
    "X_train_clean_subcateg_bow = bow_vectorizer.fit_transform(X_train['clean_subcategories'].values)\n",
    "X_cv_clean_subcateg_bow = bow_vectorizer.transform(X_cv['clean_subcategories'].values)\n",
    "X_test_clean_subcateg_bow = bow_vectorizer.transform(X_test['clean_subcategories'].values)\n",
    "\n",
    "feature_names_list.extend(bow_vectorizer.get_feature_names())\n",
    "\n",
    "#TFIDF\n",
    "X_train_clean_subcateg_tfidf = tfidf_vectorizer.fit_transform(X_train['clean_subcategories'].values)\n",
    "X_cv_clean_subcateg_tfidf = tfidf_vectorizer.transform(X_cv['clean_subcategories'].values)\n",
    "X_test_clean_subcateg_tfidf = tfidf_vectorizer.transform(X_test['clean_subcategories'].values)\n"
   ]
  },
  {
   "cell_type": "markdown",
   "metadata": {},
   "source": [
    "<h3>1.4.2 encoding numerical features: price, teacher_number_of_previously_posted_projects</h3>"
   ]
  },
  {
   "cell_type": "code",
   "execution_count": 141,
   "metadata": {},
   "outputs": [],
   "source": [
    "#++++++++++++++++++ price ++++++++++++++++++++++\n",
    "\n",
    "normalizer = Normalizer()\n",
    "\n",
    "X_train_price_norm = normalizer.fit_transform(X_train['price'].values.reshape(1,-1)).reshape(-1,1)\n",
    "X_cv_price_norm = normalizer.transform(X_cv['price'].values.reshape(1,-1)).reshape(-1,1)\n",
    "X_test_price_norm = normalizer.transform(X_test['price'].values.reshape(1,-1)).reshape(-1,1)\n",
    "\n",
    "feature_names_list.append('Price')\n",
    "\n",
    "#++++++++++++++++++ teacher_number_of_previously_posted_projects ++++++++++++++++++++++\n",
    "\n",
    "normalizer = Normalizer()\n",
    "\n",
    "X_train_num_prev_proj_norm = normalizer.fit_transform(X_train['teacher_number_of_previously_posted_projects'].values.reshape(1,-1)).reshape(-1,1)\n",
    "X_cv_num_prev_proj_norm = normalizer.transform(X_cv['teacher_number_of_previously_posted_projects'].values.reshape(1,-1)).reshape(-1,1)\n",
    "X_test_num_prev_proj_norm = normalizer.transform(X_test['teacher_number_of_previously_posted_projects'].values.reshape(1,-1)).reshape(-1,1)\n",
    "\n",
    "feature_names_list.append('teacher_number_of_previously_posted_projects')"
   ]
  },
  {
   "cell_type": "markdown",
   "metadata": {},
   "source": [
    "<h3>1.4.3 Concatenating all the features</h3>"
   ]
  },
  {
   "cell_type": "code",
   "execution_count": 142,
   "metadata": {},
   "outputs": [
    {
     "name": "stdout",
     "output_type": "stream",
     "text": [
      "Final Data matrix\n",
      "(33667, 5101) (33667,)\n",
      "(16583, 5101) (16583,)\n",
      "(24750, 5101) (24750,)\n",
      "====================================================================================================\n"
     ]
    }
   ],
   "source": [
    "#SET-1 - essay(BOW)+categorical(BOW)+numerical\n",
    "\n",
    "X_tr_set1 = hstack((X_train_essay_bow, X_train_teacher_prefix_bow, X_train_grade_category_bow, X_train_school_state_bow, X_train_clean_categ_bow,X_train_clean_subcateg_bow,X_train_price_norm,X_train_num_prev_proj_norm)).tocsr()\n",
    "X_cr_set1 = hstack((X_cv_essay_bow, X_cv_teacher_prefix_bow, X_cv_grade_category_bow, X_cv_school_state_bow, X_cv_clean_categ_bow,X_cv_clean_subcateg_bow,X_cv_price_norm,X_cv_num_prev_proj_norm)).tocsr()\n",
    "X_te_set1 = hstack((X_test_essay_bow, X_test_teacher_prefix_bow, X_test_grade_category_bow, X_test_school_state_bow, X_test_clean_categ_bow,X_test_clean_subcateg_bow,X_test_price_norm,X_test_num_prev_proj_norm)).tocsr()\n",
    "\n",
    "#SET-1 - essay(TFIDF)+categorical(TFIDF)+numerical\n",
    "\n",
    "X_tr_set2 = hstack((X_train_essay_tfidf, X_train_teacher_prefix_tfidf, X_train_grade_category_tfidf, X_train_school_state_tfidf, X_train_clean_categ_tfidf,X_train_clean_subcateg_tfidf,X_train_price_norm,X_train_num_prev_proj_norm)).tocsr()\n",
    "X_cr_set2 = hstack((X_cv_essay_tfidf, X_cv_teacher_prefix_tfidf, X_cv_grade_category_tfidf, X_cv_school_state_tfidf, X_cv_clean_categ_tfidf,X_cv_clean_subcateg_tfidf,X_cv_price_norm,X_cv_num_prev_proj_norm)).tocsr()\n",
    "X_te_set2 = hstack((X_test_essay_tfidf, X_test_teacher_prefix_tfidf, X_test_grade_category_tfidf, X_test_school_state_tfidf, X_test_clean_categ_tfidf,X_test_clean_subcateg_tfidf,X_test_price_norm,X_test_num_prev_proj_norm)).tocsr()\n",
    "\n",
    "print(\"Final Data matrix\")\n",
    "print(X_tr_set1.shape, y_train.shape)\n",
    "print(X_cr_set1.shape, y_cv.shape)\n",
    "print(X_te_set1.shape, y_test.shape)\n",
    "print(\"=\"*100)"
   ]
  },
  {
   "cell_type": "markdown",
   "metadata": {
    "colab_type": "text",
    "id": "yYHPYadYb3dh"
   },
   "source": [
    "<h2>1.5 Appling NB on different kind of featurization as mentioned in the instructions</h2>\n",
    "\n",
    "<br>Apply NB on different kind of featurization as mentioned in the instructions\n",
    "<br> For Every model that you work on make sure you do the step 2 and step 3 of instrucations"
   ]
  },
  {
   "cell_type": "markdown",
   "metadata": {},
   "source": [
    "<h3>1.5.1 Appling MultinomialNB: BOW featurization(Set-1)</h3>"
   ]
  },
  {
   "cell_type": "markdown",
   "metadata": {},
   "source": [
    "<h4>1.5.1.1 Hyper-parameter Tuning - To find right alpha(smoothing parameter)</h4>"
   ]
  },
  {
   "cell_type": "code",
   "execution_count": 143,
   "metadata": {},
   "outputs": [],
   "source": [
    "def batch_predict(clf,data):\n",
    "    #processing batch wise with each batch of size 1000 samples\n",
    "    rem=data.shape[0]%1000\n",
    "    total_batch_size=data.shape[0]-rem\n",
    "    y_pred_prob=[]\n",
    "    for j in range(0,total_batch_size,1000):\n",
    "        y_pred_prob.extend(clf.predict_proba(data[j:j+1000])[:,1])\n",
    "    if rem!=0:\n",
    "        y_pred_prob.extend(clf.predict_proba(data[total_batch_size:])[:,1])\n",
    "    return y_pred_prob"
   ]
  },
  {
   "cell_type": "code",
   "execution_count": 144,
   "metadata": {},
   "outputs": [
    {
     "name": "stderr",
     "output_type": "stream",
     "text": [
      "100%|██████████████████████████████████████████| 18/18 [00:06<00:00,  2.67it/s]\n"
     ]
    },
    {
     "data": {
      "image/png": "[encoded data removed]",
      "text/plain": [
       "<Figure size 432x288 with 1 Axes>"
      ]
     },
     "metadata": {
      "needs_background": "light"
     },
     "output_type": "display_data"
    }
   ],
   "source": [
    "#simple for loop\n",
    "alpha_values=[0.00001,0.0005, 0.0001,0.005,0.001,0.05,0.01,0.1,0.5,1,5,10,50,100,500,1000,5000,10000]\n",
    "#alpha_values=range(0,100,5)\n",
    "train_auc_set1=[]\n",
    "cv_auc_set1=[]\n",
    "train_acc_set1=[]\n",
    "cv_acc_set1=[]\n",
    "for i in tqdm(alpha_values):\n",
    "    naive_bayes_clf=MultinomialNB(alpha=i,fit_prior=True)\n",
    "    naive_bayes_clf.fit(X_tr_set1,y_train)\n",
    "    \n",
    "    #predicting the probabilities for positive class using batch_predict function, so as to calculate AUC scores\n",
    "    y_train_set1_pred_prob = batch_predict(naive_bayes_clf,X_tr_set1)\n",
    "    y_cv_set1_pred_prob = batch_predict(naive_bayes_clf,X_cr_set1)\n",
    "    \n",
    "    #Calculate AUC scores using predicted probabilities(of positive class) and actual values\n",
    "    train_auc_set1.append(roc_auc_score(y_train,y_train_set1_pred_prob))\n",
    "    cv_auc_set1.append(roc_auc_score(y_cv,y_cv_set1_pred_prob))\n",
    "    \n",
    "#plot the values of hyperparameter(alpha) vs AUC scores to get best_alpha\n",
    "plt.plot(np.log10(alpha_values),train_auc_set1,label=\"Train AUC\")\n",
    "plt.plot(np.log10(alpha_values),cv_auc_set1,label=\"CV AUC\")\n",
    "\n",
    "plt.scatter(np.log10(alpha_values),train_auc_set1,label=\"Train AUC Points\")\n",
    "plt.scatter(np.log10(alpha_values),cv_auc_set1,label=\"CV AUC Points\")\n",
    "\n",
    "plt.legend()\n",
    "plt.xlabel('log(alpha values)')\n",
    "plt.ylabel('AUC Scores')\n",
    "plt.title('AUC vs hyperparameter plots')\n",
    "plt.grid()\n",
    "plt.show()"
   ]
  },
  {
   "cell_type": "markdown",
   "metadata": {},
   "source": [
    "<h3>1.5.2 Appling MultinomialNB: TFIDF featurization(Set-2)</h3>\n",
    "\n",
    "<h4>1.5.2.1 Hyper-parameter Tuning - To find right alpha(smoothing parameter)</h4>"
   ]
  },
  {
   "cell_type": "code",
   "execution_count": 145,
   "metadata": {},
   "outputs": [
    {
     "name": "stderr",
     "output_type": "stream",
     "text": [
      "100%|██████████████████████████████████████████| 18/18 [00:04<00:00,  3.62it/s]\n"
     ]
    },
    {
     "data": {
      "image/png": "[encoded data removed]",
      "text/plain": [
       "<Figure size 432x288 with 1 Axes>"
      ]
     },
     "metadata": {
      "needs_background": "light"
     },
     "output_type": "display_data"
    }
   ],
   "source": [
    "#simple for loop\n",
    "alpha_values=[0.00001,0.0005, 0.0001,0.005,0.001,0.05,0.01,0.1,0.5,1,5,10,50,100,500,1000,5000,10000]\n",
    "#alpha_values=range(0,100,5)\n",
    "train_auc_set2=[]\n",
    "cv_auc_set2=[]\n",
    "train_acc_set2=[]\n",
    "cv_acc_set2=[]\n",
    "for i in tqdm(alpha_values):\n",
    "    naive_bayes_clf=MultinomialNB(alpha=i,fit_prior=True)#TODO:play with fit_prior=False and different class priors=[0.5,0.5]\n",
    "    naive_bayes_clf.fit(X_tr_set2,y_train)\n",
    "    \n",
    "    #predicting the probabilities for positive class using batch_predict function, so as to calculate AUC scores\n",
    "    y_train_set2_pred_prob = batch_predict(naive_bayes_clf,X_tr_set2)\n",
    "    y_cv_set2_pred_prob = batch_predict(naive_bayes_clf,X_cr_set2)\n",
    "    \n",
    "    #Calculate AUC scores using predicted probabilities(of positive class) and actual values\n",
    "    train_auc_set2.append(roc_auc_score(y_train,y_train_set2_pred_prob))\n",
    "    cv_auc_set2.append(roc_auc_score(y_cv,y_cv_set2_pred_prob))\n",
    "    \n",
    "#plot the values of hyperparameter(alpha) vs AUC scores to get best_alpha\n",
    "plt.plot(np.log10(alpha_values),train_auc_set2,label=\"Train AUC\")\n",
    "plt.plot(np.log10(alpha_values),cv_auc_set2,label=\"CV AUC\")\n",
    "\n",
    "plt.scatter(np.log10(alpha_values),train_auc_set2,label=\"Train AUC Points\")\n",
    "plt.scatter(np.log10(alpha_values),cv_auc_set2,label=\"CV AUC Points\")\n",
    "\n",
    "plt.legend()\n",
    "plt.xlabel('log(alpha values)')\n",
    "plt.ylabel('AUC Scores')\n",
    "plt.title('AUC vs hyperparameter plots')\n",
    "plt.grid()\n",
    "plt.show()"
   ]
  },
  {
   "cell_type": "markdown",
   "metadata": {},
   "source": [
    "<h2>1.6 Test Performance of model on Test Data</h2>\n",
    "<h3>1.6.1 Plot ROC plots and estimate AUC for Test Data</h3>"
   ]
  },
  {
   "cell_type": "code",
   "execution_count": 146,
   "metadata": {
    "colab": {},
    "colab_type": "code",
    "id": "DNwqilFxb3di"
   },
   "outputs": [
    {
     "data": {
      "image/png": "[encoded data removed]",
      "text/plain": [
       "<Figure size 432x288 with 1 Axes>"
      ]
     },
     "metadata": {
      "needs_background": "light"
     },
     "output_type": "display_data"
    },
    {
     "name": "stdout",
     "output_type": "stream",
     "text": [
      "Negative class Top 20 feature names from Set-1:\n",
      "['students' 'school' 'learning' 'my' 'classroom' 'not' 'learn' 'they'\n",
      " 'help' 'the' 'my students' 'nannan' 'many' 'we' 'need' 'work' 'reading'\n",
      " 'come' 'skills' 'love']\n",
      "Positive class Top 20 feature names from Set-1:\n",
      "['students' 'school' 'my' 'learning' 'classroom' 'the' 'not' 'they'\n",
      " 'learn' 'my students' 'help' 'many' 'nannan' 'we' 'work' 'reading' 'need'\n",
      " 'use' 'love' 'day']\n"
     ]
    }
   ],
   "source": [
    "# here\n",
    "best_alpha=10 # for Bow featurization\n",
    "naive_bayes_clf = MultinomialNB(alpha=best_alpha,fit_prior=True)\n",
    "naive_bayes_clf.fit(X_tr_set1, y_train)\n",
    "\n",
    "y_train_set1_pred_prob = batch_predict(naive_bayes_clf, X_tr_set1)    \n",
    "y_test_set1_pred_prob = batch_predict(naive_bayes_clf, X_te_set1)\n",
    "y_test_set1_pred=naive_bayes_clf.predict(X_te_set1)\n",
    "\n",
    "train_fpr, train_tpr, tr_thresholds = roc_curve(y_train, y_train_set1_pred_prob)\n",
    "test_fpr, test_tpr, te_thresholds = roc_curve(y_test, y_test_set1_pred_prob)\n",
    "\n",
    "plt.plot(train_fpr, train_tpr, label=\"train ROC =\"+str(auc(train_fpr, train_tpr)))\n",
    "plt.plot(test_fpr, test_tpr, label=\"test ROC =\"+str(auc(test_fpr, test_tpr)))\n",
    "plt.legend()\n",
    "plt.xlabel(\"alpha: hyperparameter\")\n",
    "plt.ylabel(\"AUC\")\n",
    "plt.title(\"ROC PLOTS\")\n",
    "plt.grid()\n",
    "plt.show()\n",
    "\n",
    "#finding top20 features from set-1\n",
    "features=naive_bayes_clf.feature_log_prob_\n",
    "features_top_20_neg_set1=np.array(feature_names_list)[np.argsort(features[0])[:-21:-1]]\n",
    "features_top_20_pos_set1=np.array(feature_names_list)[np.argsort(features[1])[:-21:-1]]\n",
    "print(\"Negative class Top 20 feature names from Set-1:\")\n",
    "print(features_top_20_neg_set1[:])\n",
    "print(\"Positive class Top 20 feature names from Set-1:\")\n",
    "print(features_top_20_pos_set1[:])"
   ]
  },
  {
   "cell_type": "code",
   "execution_count": 147,
   "metadata": {},
   "outputs": [
    {
     "data": {
      "image/png": "[encoded data removed]",
      "text/plain": [
       "<Figure size 432x288 with 1 Axes>"
      ]
     },
     "metadata": {
      "needs_background": "light"
     },
     "output_type": "display_data"
    },
    {
     "name": "stdout",
     "output_type": "stream",
     "text": [
      "Negative class Top 20 feature names from Set-2:\n",
      "['mrs' 'grades_prek_2' 'ms' 'literacy_language' 'grades_3_5'\n",
      " 'math_science' 'literacy' 'mathematics' 'grades_6_8' 'ca' 'health_sports'\n",
      " 'literature_writing' 'students' 'specialneeds' 'appliedlearning'\n",
      " 'specialneeds' 'grades_9_12' 'mr' 'tx' 'appliedsciences']\n",
      "Positive class Top 20 feature names from Set-2:\n",
      "['mrs' 'grades_prek_2' 'literacy_language' 'ms' 'grades_3_5'\n",
      " 'math_science' 'literacy' 'mathematics' 'literature_writing' 'grades_6_8'\n",
      " 'ca' 'health_sports' 'students' 'specialneeds' 'grades_9_12' 'mr'\n",
      " 'specialneeds' 'health_wellness' 'appliedlearning' 'music_arts']\n"
     ]
    }
   ],
   "source": [
    "# here\n",
    "best_alpha=1 # for TFIDF featurization\n",
    "naive_bayes_clf = MultinomialNB(alpha=best_alpha,fit_prior=True)\n",
    "naive_bayes_clf.fit(X_tr_set2, y_train)\n",
    "\n",
    "y_train_set2_pred_prob = batch_predict(naive_bayes_clf, X_tr_set2)    \n",
    "y_test_set2_pred_prob = batch_predict(naive_bayes_clf, X_te_set2)\n",
    "y_test_set2_pred=naive_bayes_clf.predict(X_te_set2) # To compute confusion Matrix\n",
    "\n",
    "train_fpr, train_tpr, tr_thresholds = roc_curve(y_train, y_train_set2_pred_prob)\n",
    "test_fpr, test_tpr, te_thresholds = roc_curve(y_test, y_test_set2_pred_prob)\n",
    "\n",
    "plt.plot(train_fpr, train_tpr, label=\"train ROC =\"+str(auc(train_fpr, train_tpr)))\n",
    "plt.plot(test_fpr, test_tpr, label=\"test ROC =\"+str(auc(test_fpr, test_tpr)))\n",
    "plt.legend()\n",
    "plt.xlabel(\"alpha: hyperparameter\")\n",
    "plt.ylabel(\"AUC\")\n",
    "plt.title(\"ROC PLOTS\")\n",
    "plt.grid()\n",
    "plt.show()\n",
    "\n",
    "#finding top20 features from set-1\n",
    "features=naive_bayes_clf.feature_log_prob_\n",
    "features_top_20_neg_set2=np.array(feature_names_list)[np.argsort(features[0])[:-21:-1]]\n",
    "features_top_20_pos_set2=np.array(feature_names_list)[np.argsort(features[1])[:-21:-1]]\n",
    "print(\"Negative class Top 20 feature names from Set-2:\")\n",
    "print(features_top_20_neg_set2[:])\n",
    "print(\"Positive class Top 20 feature names from Set-2:\")\n",
    "print(features_top_20_pos_set2[:])"
   ]
  },
  {
   "cell_type": "markdown",
   "metadata": {},
   "source": [
    "<h3>1.6.2 Plot Confusion Matrix</h3>"
   ]
  },
  {
   "cell_type": "code",
   "execution_count": 148,
   "metadata": {},
   "outputs": [
    {
     "name": "stdout",
     "output_type": "stream",
     "text": [
      "0.8226614914016914\n"
     ]
    },
    {
     "data": {
      "image/png": "[encoded data removed]",
      "text/plain": [
       "<Figure size 432x288 with 2 Axes>"
      ]
     },
     "metadata": {
      "needs_background": "light"
     },
     "output_type": "display_data"
    }
   ],
   "source": [
    "cm=confusion_matrix(y_test,y_test_set1_pred)\n",
    "sns.heatmap(cm, annot=True,fmt=\"d\",cmap='Blues')\n",
    "precision=cm[1][1]/(cm[1][1]+cm[1][0])\n",
    "recall=cm[1][1]/(cm[1][1]+cm[0][1])\n",
    "F1_score_set1 =(2*precision*recall)/(precision+recall)\n",
    "print(F1_score_set1)"
   ]
  },
  {
   "cell_type": "code",
   "execution_count": 149,
   "metadata": {},
   "outputs": [
    {
     "name": "stdout",
     "output_type": "stream",
     "text": [
      "0.9136236726976938\n"
     ]
    },
    {
     "data": {
      "image/png": "[encoded data removed]",
      "text/plain": [
       "<Figure size 432x288 with 2 Axes>"
      ]
     },
     "metadata": {
      "needs_background": "light"
     },
     "output_type": "display_data"
    }
   ],
   "source": [
    "cm=confusion_matrix(y_test,y_test_set2_pred)\n",
    "sns.heatmap(cm, annot=True,fmt=\"d\",cmap='Blues')\n",
    "precision=cm[1][1]/(cm[1][1]+cm[1][0])\n",
    "recall=cm[1][1]/(cm[1][1]+cm[0][1])\n",
    "F1_score_set2 =(2*precision*recall)/(precision+recall)\n",
    "print(F1_score_set2)"
   ]
  },
  {
   "cell_type": "markdown",
   "metadata": {
    "colab_type": "text",
    "id": "lS9hIHdib3dp"
   },
   "source": [
    "<h1>3. Summary</h1>\n"
   ]
  },
  {
   "cell_type": "code",
   "execution_count": null,
   "metadata": {},
   "outputs": [],
   "source": [
    "############################################################################################\n",
    "\n",
    "#+----------------+---------------+-------------------------+-----------------+-------------+\n",
    "#|   Vectorizer   |     Model     |  Hyperparameter(alpha)  |  AUC(TEST SET)  |  F1-Score   |\n",
    "#+----------------+---------------+-------------------------+-----------------+-------------+\n",
    "#|    BOW         | MultinomialNB |          10             |    0.68787      |  0.82266    |\n",
    "#+----------------+---------------+-------------------------+-----------------+-------------+\n",
    "#|    TFIDF       | MultinomialNB |           1             |    0.66831      |  0.91362    |\n",
    "#+----------------+---------------+-------------------------+-----------------+-------------+\n",
    "\n",
    "############################################################################################"
   ]
  }
 ],
 "metadata": {
  "colab": {
   "collapsed_sections": [],
   "name": "6_Assignment_NB_Instructions.ipynb",
   "provenance": []
  },
  "kernelspec": {
   "display_name": "Python 3",
   "language": "python",
   "name": "python3"
  },
  "language_info": {
   "codemirror_mode": {
    "name": "ipython",
    "version": 3
   },
   "file_extension": ".py",
   "mimetype": "text/x-python",
   "name": "python",
   "nbconvert_exporter": "python",
   "pygments_lexer": "ipython3",
   "version": "3.8.7"
  }
 },
 "nbformat": 4,
 "nbformat_minor": 1
}
